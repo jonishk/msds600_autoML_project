{
 "cells": [
  {
   "cell_type": "markdown",
   "id": "165166dd",
   "metadata": {},
   "source": [
    "# DS Automation Assignment"
   ]
  },
  {
   "cell_type": "markdown",
   "id": "c195af74",
   "metadata": {},
   "source": [
    "Using our prepared churn data from week 2:\n",
    "- use pycaret to find an ML algorithm that performs best on the data\n",
    "    - Choose a metric you think is best to use for finding the best model; by default, it is accuracy but it could be AUC, precision, recall, etc. The week 3 FTE has some information on these different metrics.\n",
    "- save the model to disk\n",
    "- create a Python script/file/module with a function that takes a pandas dataframe as an input and returns the probability of churn for each row in the dataframe\n",
    "    - your Python file/function should print out the predictions for new data (new_churn_data.csv)\n",
    "    - the true values for the new data are [1, 0, 0, 1, 0] if you're interested\n",
    "- test your Python module and function with the new data, new_churn_data.csv\n",
    "- write a short summary of the process and results at the end of this notebook\n",
    "- upload this Jupyter Notebook and Python file to a Github repository, and turn in a link to the repository in the week 5 assignment dropbox"
   ]
  },
  {
   "cell_type": "markdown",
   "id": "a4b2cb46",
   "metadata": {},
   "source": [
    "## Load data"
   ]
  },
  {
   "cell_type": "markdown",
   "id": "be0b1281",
   "metadata": {},
   "source": [
    "First, we are going to load our same prepared data from week 2 where everything has been converted to numbers. Many autoML packages can handle non-numeric data (they usually convert it to numeric with various methods)."
   ]
  },
  {
   "cell_type": "code",
   "execution_count": 35,
   "id": "8b72547a",
   "metadata": {},
   "outputs": [
    {
     "data": {
      "text/html": [
       "<div>\n",
       "<style scoped>\n",
       "    .dataframe tbody tr th:only-of-type {\n",
       "        vertical-align: middle;\n",
       "    }\n",
       "\n",
       "    .dataframe tbody tr th {\n",
       "        vertical-align: top;\n",
       "    }\n",
       "\n",
       "    .dataframe thead th {\n",
       "        text-align: right;\n",
       "    }\n",
       "</style>\n",
       "<table border=\"1\" class=\"dataframe\">\n",
       "  <thead>\n",
       "    <tr style=\"text-align: right;\">\n",
       "      <th></th>\n",
       "      <th>tenure</th>\n",
       "      <th>PhoneService</th>\n",
       "      <th>Contract</th>\n",
       "      <th>MonthlyCharges</th>\n",
       "      <th>TotalCharges</th>\n",
       "      <th>Churn</th>\n",
       "      <th>Credit card (automatic)</th>\n",
       "      <th>Electronic check</th>\n",
       "      <th>Mailed check</th>\n",
       "      <th>Total_tenure_ratio</th>\n",
       "    </tr>\n",
       "  </thead>\n",
       "  <tbody>\n",
       "    <tr>\n",
       "      <th>0</th>\n",
       "      <td>1</td>\n",
       "      <td>0</td>\n",
       "      <td>0</td>\n",
       "      <td>29.85</td>\n",
       "      <td>29.85</td>\n",
       "      <td>0</td>\n",
       "      <td>0</td>\n",
       "      <td>1</td>\n",
       "      <td>0</td>\n",
       "      <td>29.850000</td>\n",
       "    </tr>\n",
       "    <tr>\n",
       "      <th>1</th>\n",
       "      <td>34</td>\n",
       "      <td>1</td>\n",
       "      <td>1</td>\n",
       "      <td>56.95</td>\n",
       "      <td>1889.50</td>\n",
       "      <td>0</td>\n",
       "      <td>0</td>\n",
       "      <td>0</td>\n",
       "      <td>1</td>\n",
       "      <td>55.573529</td>\n",
       "    </tr>\n",
       "    <tr>\n",
       "      <th>2</th>\n",
       "      <td>2</td>\n",
       "      <td>1</td>\n",
       "      <td>0</td>\n",
       "      <td>53.85</td>\n",
       "      <td>108.15</td>\n",
       "      <td>1</td>\n",
       "      <td>0</td>\n",
       "      <td>0</td>\n",
       "      <td>1</td>\n",
       "      <td>54.075000</td>\n",
       "    </tr>\n",
       "    <tr>\n",
       "      <th>3</th>\n",
       "      <td>45</td>\n",
       "      <td>0</td>\n",
       "      <td>1</td>\n",
       "      <td>42.30</td>\n",
       "      <td>1840.75</td>\n",
       "      <td>0</td>\n",
       "      <td>0</td>\n",
       "      <td>0</td>\n",
       "      <td>0</td>\n",
       "      <td>40.905556</td>\n",
       "    </tr>\n",
       "    <tr>\n",
       "      <th>4</th>\n",
       "      <td>2</td>\n",
       "      <td>1</td>\n",
       "      <td>0</td>\n",
       "      <td>70.70</td>\n",
       "      <td>151.65</td>\n",
       "      <td>1</td>\n",
       "      <td>0</td>\n",
       "      <td>1</td>\n",
       "      <td>0</td>\n",
       "      <td>75.825000</td>\n",
       "    </tr>\n",
       "    <tr>\n",
       "      <th>...</th>\n",
       "      <td>...</td>\n",
       "      <td>...</td>\n",
       "      <td>...</td>\n",
       "      <td>...</td>\n",
       "      <td>...</td>\n",
       "      <td>...</td>\n",
       "      <td>...</td>\n",
       "      <td>...</td>\n",
       "      <td>...</td>\n",
       "      <td>...</td>\n",
       "    </tr>\n",
       "    <tr>\n",
       "      <th>7038</th>\n",
       "      <td>24</td>\n",
       "      <td>1</td>\n",
       "      <td>1</td>\n",
       "      <td>84.80</td>\n",
       "      <td>1990.50</td>\n",
       "      <td>0</td>\n",
       "      <td>0</td>\n",
       "      <td>0</td>\n",
       "      <td>1</td>\n",
       "      <td>82.937500</td>\n",
       "    </tr>\n",
       "    <tr>\n",
       "      <th>7039</th>\n",
       "      <td>72</td>\n",
       "      <td>1</td>\n",
       "      <td>1</td>\n",
       "      <td>103.20</td>\n",
       "      <td>7362.90</td>\n",
       "      <td>0</td>\n",
       "      <td>1</td>\n",
       "      <td>0</td>\n",
       "      <td>0</td>\n",
       "      <td>102.262500</td>\n",
       "    </tr>\n",
       "    <tr>\n",
       "      <th>7040</th>\n",
       "      <td>11</td>\n",
       "      <td>0</td>\n",
       "      <td>0</td>\n",
       "      <td>29.60</td>\n",
       "      <td>346.45</td>\n",
       "      <td>0</td>\n",
       "      <td>0</td>\n",
       "      <td>1</td>\n",
       "      <td>0</td>\n",
       "      <td>31.495455</td>\n",
       "    </tr>\n",
       "    <tr>\n",
       "      <th>7041</th>\n",
       "      <td>4</td>\n",
       "      <td>1</td>\n",
       "      <td>0</td>\n",
       "      <td>74.40</td>\n",
       "      <td>306.60</td>\n",
       "      <td>1</td>\n",
       "      <td>0</td>\n",
       "      <td>0</td>\n",
       "      <td>1</td>\n",
       "      <td>76.650000</td>\n",
       "    </tr>\n",
       "    <tr>\n",
       "      <th>7042</th>\n",
       "      <td>66</td>\n",
       "      <td>1</td>\n",
       "      <td>2</td>\n",
       "      <td>105.65</td>\n",
       "      <td>6844.50</td>\n",
       "      <td>0</td>\n",
       "      <td>0</td>\n",
       "      <td>0</td>\n",
       "      <td>0</td>\n",
       "      <td>103.704545</td>\n",
       "    </tr>\n",
       "  </tbody>\n",
       "</table>\n",
       "<p>7043 rows × 10 columns</p>\n",
       "</div>"
      ],
      "text/plain": [
       "      tenure  PhoneService  Contract  MonthlyCharges  TotalCharges  Churn  \\\n",
       "0          1             0         0           29.85         29.85      0   \n",
       "1         34             1         1           56.95       1889.50      0   \n",
       "2          2             1         0           53.85        108.15      1   \n",
       "3         45             0         1           42.30       1840.75      0   \n",
       "4          2             1         0           70.70        151.65      1   \n",
       "...      ...           ...       ...             ...           ...    ...   \n",
       "7038      24             1         1           84.80       1990.50      0   \n",
       "7039      72             1         1          103.20       7362.90      0   \n",
       "7040      11             0         0           29.60        346.45      0   \n",
       "7041       4             1         0           74.40        306.60      1   \n",
       "7042      66             1         2          105.65       6844.50      0   \n",
       "\n",
       "      Credit card (automatic)  Electronic check  Mailed check  \\\n",
       "0                           0                 1             0   \n",
       "1                           0                 0             1   \n",
       "2                           0                 0             1   \n",
       "3                           0                 0             0   \n",
       "4                           0                 1             0   \n",
       "...                       ...               ...           ...   \n",
       "7038                        0                 0             1   \n",
       "7039                        1                 0             0   \n",
       "7040                        0                 1             0   \n",
       "7041                        0                 0             1   \n",
       "7042                        0                 0             0   \n",
       "\n",
       "      Total_tenure_ratio  \n",
       "0              29.850000  \n",
       "1              55.573529  \n",
       "2              54.075000  \n",
       "3              40.905556  \n",
       "4              75.825000  \n",
       "...                  ...  \n",
       "7038           82.937500  \n",
       "7039          102.262500  \n",
       "7040           31.495455  \n",
       "7041           76.650000  \n",
       "7042          103.704545  \n",
       "\n",
       "[7043 rows x 10 columns]"
      ]
     },
     "execution_count": 35,
     "metadata": {},
     "output_type": "execute_result"
    }
   ],
   "source": [
    "import pandas as pd\n",
    "\n",
    "df = pd.read_csv('prepped_churn_data.csv')\n",
    "df = df.drop('Unnamed: 0', axis=1)\n",
    "df"
   ]
  },
  {
   "cell_type": "markdown",
   "id": "f9843eeb",
   "metadata": {},
   "source": [
    "# AutoML with pycaret"
   ]
  },
  {
   "cell_type": "markdown",
   "id": "46da7f12",
   "metadata": {},
   "source": [
    "Our next step is to use pycaret for autoML. \n",
    "\n",
    "\n",
    "Install pycaret\n",
    "\n",
    "* pip install pycaret\n",
    "\n",
    "\n",
    "Then we can import the functions we need:"
   ]
  },
  {
   "cell_type": "code",
   "execution_count": 36,
   "id": "1a3d2f32",
   "metadata": {},
   "outputs": [],
   "source": [
    "from pycaret.classification import ClassificationExperiment #setup, compare_models, predict_model, save_model, load_model"
   ]
  },
  {
   "cell_type": "code",
   "execution_count": 37,
   "id": "6b3710b0",
   "metadata": {},
   "outputs": [],
   "source": [
    "automl = ClassificationExperiment() #setup(df, target='Churn')"
   ]
  },
  {
   "cell_type": "code",
   "execution_count": 38,
   "id": "acdfe353",
   "metadata": {},
   "outputs": [
    {
     "data": {
      "text/html": [
       "<style type=\"text/css\">\n",
       "#T_a9523_row8_col1 {\n",
       "  background-color: lightgreen;\n",
       "}\n",
       "</style>\n",
       "<table id=\"T_a9523\">\n",
       "  <thead>\n",
       "    <tr>\n",
       "      <th class=\"blank level0\" >&nbsp;</th>\n",
       "      <th id=\"T_a9523_level0_col0\" class=\"col_heading level0 col0\" >Description</th>\n",
       "      <th id=\"T_a9523_level0_col1\" class=\"col_heading level0 col1\" >Value</th>\n",
       "    </tr>\n",
       "  </thead>\n",
       "  <tbody>\n",
       "    <tr>\n",
       "      <th id=\"T_a9523_level0_row0\" class=\"row_heading level0 row0\" >0</th>\n",
       "      <td id=\"T_a9523_row0_col0\" class=\"data row0 col0\" >Session id</td>\n",
       "      <td id=\"T_a9523_row0_col1\" class=\"data row0 col1\" >6640</td>\n",
       "    </tr>\n",
       "    <tr>\n",
       "      <th id=\"T_a9523_level0_row1\" class=\"row_heading level0 row1\" >1</th>\n",
       "      <td id=\"T_a9523_row1_col0\" class=\"data row1 col0\" >Target</td>\n",
       "      <td id=\"T_a9523_row1_col1\" class=\"data row1 col1\" >Churn</td>\n",
       "    </tr>\n",
       "    <tr>\n",
       "      <th id=\"T_a9523_level0_row2\" class=\"row_heading level0 row2\" >2</th>\n",
       "      <td id=\"T_a9523_row2_col0\" class=\"data row2 col0\" >Target type</td>\n",
       "      <td id=\"T_a9523_row2_col1\" class=\"data row2 col1\" >Binary</td>\n",
       "    </tr>\n",
       "    <tr>\n",
       "      <th id=\"T_a9523_level0_row3\" class=\"row_heading level0 row3\" >3</th>\n",
       "      <td id=\"T_a9523_row3_col0\" class=\"data row3 col0\" >Original data shape</td>\n",
       "      <td id=\"T_a9523_row3_col1\" class=\"data row3 col1\" >(7043, 10)</td>\n",
       "    </tr>\n",
       "    <tr>\n",
       "      <th id=\"T_a9523_level0_row4\" class=\"row_heading level0 row4\" >4</th>\n",
       "      <td id=\"T_a9523_row4_col0\" class=\"data row4 col0\" >Transformed data shape</td>\n",
       "      <td id=\"T_a9523_row4_col1\" class=\"data row4 col1\" >(7043, 10)</td>\n",
       "    </tr>\n",
       "    <tr>\n",
       "      <th id=\"T_a9523_level0_row5\" class=\"row_heading level0 row5\" >5</th>\n",
       "      <td id=\"T_a9523_row5_col0\" class=\"data row5 col0\" >Transformed train set shape</td>\n",
       "      <td id=\"T_a9523_row5_col1\" class=\"data row5 col1\" >(4930, 10)</td>\n",
       "    </tr>\n",
       "    <tr>\n",
       "      <th id=\"T_a9523_level0_row6\" class=\"row_heading level0 row6\" >6</th>\n",
       "      <td id=\"T_a9523_row6_col0\" class=\"data row6 col0\" >Transformed test set shape</td>\n",
       "      <td id=\"T_a9523_row6_col1\" class=\"data row6 col1\" >(2113, 10)</td>\n",
       "    </tr>\n",
       "    <tr>\n",
       "      <th id=\"T_a9523_level0_row7\" class=\"row_heading level0 row7\" >7</th>\n",
       "      <td id=\"T_a9523_row7_col0\" class=\"data row7 col0\" >Numeric features</td>\n",
       "      <td id=\"T_a9523_row7_col1\" class=\"data row7 col1\" >9</td>\n",
       "    </tr>\n",
       "    <tr>\n",
       "      <th id=\"T_a9523_level0_row8\" class=\"row_heading level0 row8\" >8</th>\n",
       "      <td id=\"T_a9523_row8_col0\" class=\"data row8 col0\" >Preprocess</td>\n",
       "      <td id=\"T_a9523_row8_col1\" class=\"data row8 col1\" >True</td>\n",
       "    </tr>\n",
       "    <tr>\n",
       "      <th id=\"T_a9523_level0_row9\" class=\"row_heading level0 row9\" >9</th>\n",
       "      <td id=\"T_a9523_row9_col0\" class=\"data row9 col0\" >Imputation type</td>\n",
       "      <td id=\"T_a9523_row9_col1\" class=\"data row9 col1\" >simple</td>\n",
       "    </tr>\n",
       "    <tr>\n",
       "      <th id=\"T_a9523_level0_row10\" class=\"row_heading level0 row10\" >10</th>\n",
       "      <td id=\"T_a9523_row10_col0\" class=\"data row10 col0\" >Numeric imputation</td>\n",
       "      <td id=\"T_a9523_row10_col1\" class=\"data row10 col1\" >mean</td>\n",
       "    </tr>\n",
       "    <tr>\n",
       "      <th id=\"T_a9523_level0_row11\" class=\"row_heading level0 row11\" >11</th>\n",
       "      <td id=\"T_a9523_row11_col0\" class=\"data row11 col0\" >Categorical imputation</td>\n",
       "      <td id=\"T_a9523_row11_col1\" class=\"data row11 col1\" >mode</td>\n",
       "    </tr>\n",
       "    <tr>\n",
       "      <th id=\"T_a9523_level0_row12\" class=\"row_heading level0 row12\" >12</th>\n",
       "      <td id=\"T_a9523_row12_col0\" class=\"data row12 col0\" >Fold Generator</td>\n",
       "      <td id=\"T_a9523_row12_col1\" class=\"data row12 col1\" >StratifiedKFold</td>\n",
       "    </tr>\n",
       "    <tr>\n",
       "      <th id=\"T_a9523_level0_row13\" class=\"row_heading level0 row13\" >13</th>\n",
       "      <td id=\"T_a9523_row13_col0\" class=\"data row13 col0\" >Fold Number</td>\n",
       "      <td id=\"T_a9523_row13_col1\" class=\"data row13 col1\" >10</td>\n",
       "    </tr>\n",
       "    <tr>\n",
       "      <th id=\"T_a9523_level0_row14\" class=\"row_heading level0 row14\" >14</th>\n",
       "      <td id=\"T_a9523_row14_col0\" class=\"data row14 col0\" >CPU Jobs</td>\n",
       "      <td id=\"T_a9523_row14_col1\" class=\"data row14 col1\" >-1</td>\n",
       "    </tr>\n",
       "    <tr>\n",
       "      <th id=\"T_a9523_level0_row15\" class=\"row_heading level0 row15\" >15</th>\n",
       "      <td id=\"T_a9523_row15_col0\" class=\"data row15 col0\" >Use GPU</td>\n",
       "      <td id=\"T_a9523_row15_col1\" class=\"data row15 col1\" >False</td>\n",
       "    </tr>\n",
       "    <tr>\n",
       "      <th id=\"T_a9523_level0_row16\" class=\"row_heading level0 row16\" >16</th>\n",
       "      <td id=\"T_a9523_row16_col0\" class=\"data row16 col0\" >Log Experiment</td>\n",
       "      <td id=\"T_a9523_row16_col1\" class=\"data row16 col1\" >False</td>\n",
       "    </tr>\n",
       "    <tr>\n",
       "      <th id=\"T_a9523_level0_row17\" class=\"row_heading level0 row17\" >17</th>\n",
       "      <td id=\"T_a9523_row17_col0\" class=\"data row17 col0\" >Experiment Name</td>\n",
       "      <td id=\"T_a9523_row17_col1\" class=\"data row17 col1\" >clf-default-name</td>\n",
       "    </tr>\n",
       "    <tr>\n",
       "      <th id=\"T_a9523_level0_row18\" class=\"row_heading level0 row18\" >18</th>\n",
       "      <td id=\"T_a9523_row18_col0\" class=\"data row18 col0\" >USI</td>\n",
       "      <td id=\"T_a9523_row18_col1\" class=\"data row18 col1\" >a91b</td>\n",
       "    </tr>\n",
       "  </tbody>\n",
       "</table>\n"
      ],
      "text/plain": [
       "<pandas.io.formats.style.Styler at 0x20bae5cf400>"
      ]
     },
     "metadata": {},
     "output_type": "display_data"
    },
    {
     "data": {
      "text/plain": [
       "<pycaret.classification.oop.ClassificationExperiment at 0x20bada6abf0>"
      ]
     },
     "execution_count": 38,
     "metadata": {},
     "output_type": "execute_result"
    }
   ],
   "source": [
    "automl.setup(df, target='Churn')"
   ]
  },
  {
   "cell_type": "markdown",
   "id": "9f610236",
   "metadata": {},
   "source": [
    "This will ask us to check if the datatypes of the input data are correct. In this case, they seem fine. There are a huge number of parameters we can set that we can see in the [docs](https://pycaret.org/classification/) or if we run `?setup` in a cell. For now, we are leaving everything else at the default. However, relating it to last week, we can see there is a feature_selection option we could set.\n"
   ]
  },
  {
   "cell_type": "code",
   "execution_count": 39,
   "id": "383175e2",
   "metadata": {},
   "outputs": [
    {
     "data": {
      "text/plain": [
       "<pycaret.classification.oop.ClassificationExperiment at 0x20bada6abf0>"
      ]
     },
     "execution_count": 39,
     "metadata": {},
     "output_type": "execute_result"
    }
   ],
   "source": [
    "automl"
   ]
  },
  {
   "cell_type": "markdown",
   "id": "5286e392",
   "metadata": {},
   "source": [
    "Next up, we simply run the autoML to find the best model:"
   ]
  },
  {
   "cell_type": "code",
   "execution_count": 40,
   "id": "e26ed46c",
   "metadata": {},
   "outputs": [
    {
     "data": {
      "text/html": [
       "<div>\n",
       "<style scoped>\n",
       "    .dataframe tbody tr th:only-of-type {\n",
       "        vertical-align: middle;\n",
       "    }\n",
       "\n",
       "    .dataframe tbody tr th {\n",
       "        vertical-align: top;\n",
       "    }\n",
       "\n",
       "    .dataframe thead th {\n",
       "        text-align: right;\n",
       "    }\n",
       "</style>\n",
       "<table border=\"1\" class=\"dataframe\">\n",
       "  <thead>\n",
       "    <tr style=\"text-align: right;\">\n",
       "      <th></th>\n",
       "      <th></th>\n",
       "      <th></th>\n",
       "    </tr>\n",
       "    <tr>\n",
       "      <th></th>\n",
       "      <th></th>\n",
       "      <th></th>\n",
       "    </tr>\n",
       "  </thead>\n",
       "  <tbody>\n",
       "    <tr>\n",
       "      <th>Initiated</th>\n",
       "      <td>. . . . . . . . . . . . . . . . . .</td>\n",
       "      <td>22:28:46</td>\n",
       "    </tr>\n",
       "    <tr>\n",
       "      <th>Status</th>\n",
       "      <td>. . . . . . . . . . . . . . . . . .</td>\n",
       "      <td>Selecting Estimator</td>\n",
       "    </tr>\n",
       "    <tr>\n",
       "      <th>Estimator</th>\n",
       "      <td>. . . . . . . . . . . . . . . . . .</td>\n",
       "      <td>Logistic Regression</td>\n",
       "    </tr>\n",
       "  </tbody>\n",
       "</table>\n",
       "</div>"
      ],
      "text/plain": [
       "                                                                   \n",
       "                                                                   \n",
       "Initiated  . . . . . . . . . . . . . . . . . .             22:28:46\n",
       "Status     . . . . . . . . . . . . . . . . . .  Selecting Estimator\n",
       "Estimator  . . . . . . . . . . . . . . . . . .  Logistic Regression"
      ]
     },
     "metadata": {},
     "output_type": "display_data"
    },
    {
     "data": {
      "text/html": [
       "<style type=\"text/css\">\n",
       "#T_9bf69 th {\n",
       "  text-align: left;\n",
       "}\n",
       "#T_9bf69_row0_col0, #T_9bf69_row0_col2, #T_9bf69_row0_col3, #T_9bf69_row0_col4, #T_9bf69_row0_col5, #T_9bf69_row0_col7, #T_9bf69_row1_col0, #T_9bf69_row1_col1, #T_9bf69_row1_col3, #T_9bf69_row1_col4, #T_9bf69_row1_col5, #T_9bf69_row1_col6, #T_9bf69_row1_col7, #T_9bf69_row2_col0, #T_9bf69_row2_col1, #T_9bf69_row2_col2, #T_9bf69_row2_col3, #T_9bf69_row2_col4, #T_9bf69_row2_col5, #T_9bf69_row2_col6, #T_9bf69_row2_col7, #T_9bf69_row3_col0, #T_9bf69_row3_col1, #T_9bf69_row3_col2, #T_9bf69_row3_col3, #T_9bf69_row3_col4, #T_9bf69_row3_col5, #T_9bf69_row3_col6, #T_9bf69_row3_col7, #T_9bf69_row4_col0, #T_9bf69_row4_col1, #T_9bf69_row4_col2, #T_9bf69_row4_col3, #T_9bf69_row4_col5, #T_9bf69_row4_col6, #T_9bf69_row4_col7, #T_9bf69_row5_col0, #T_9bf69_row5_col1, #T_9bf69_row5_col2, #T_9bf69_row5_col3, #T_9bf69_row5_col4, #T_9bf69_row5_col5, #T_9bf69_row5_col6, #T_9bf69_row5_col7, #T_9bf69_row6_col0, #T_9bf69_row6_col1, #T_9bf69_row6_col2, #T_9bf69_row6_col3, #T_9bf69_row6_col4, #T_9bf69_row6_col5, #T_9bf69_row6_col6, #T_9bf69_row6_col7, #T_9bf69_row7_col0, #T_9bf69_row7_col1, #T_9bf69_row7_col2, #T_9bf69_row7_col3, #T_9bf69_row7_col4, #T_9bf69_row7_col5, #T_9bf69_row7_col6, #T_9bf69_row7_col7, #T_9bf69_row8_col0, #T_9bf69_row8_col1, #T_9bf69_row8_col2, #T_9bf69_row8_col3, #T_9bf69_row8_col4, #T_9bf69_row8_col5, #T_9bf69_row8_col6, #T_9bf69_row8_col7, #T_9bf69_row9_col0, #T_9bf69_row9_col1, #T_9bf69_row9_col2, #T_9bf69_row9_col4, #T_9bf69_row9_col6, #T_9bf69_row10_col0, #T_9bf69_row10_col1, #T_9bf69_row10_col2, #T_9bf69_row10_col3, #T_9bf69_row10_col4, #T_9bf69_row10_col5, #T_9bf69_row10_col6, #T_9bf69_row10_col7, #T_9bf69_row11_col0, #T_9bf69_row11_col1, #T_9bf69_row11_col2, #T_9bf69_row11_col3, #T_9bf69_row11_col4, #T_9bf69_row11_col5, #T_9bf69_row11_col6, #T_9bf69_row11_col7, #T_9bf69_row12_col0, #T_9bf69_row12_col1, #T_9bf69_row12_col2, #T_9bf69_row12_col3, #T_9bf69_row12_col4, #T_9bf69_row12_col5, #T_9bf69_row12_col6, #T_9bf69_row12_col7, #T_9bf69_row13_col0, #T_9bf69_row13_col1, #T_9bf69_row13_col2, #T_9bf69_row13_col3, #T_9bf69_row13_col4, #T_9bf69_row13_col5, #T_9bf69_row13_col6, #T_9bf69_row13_col7 {\n",
       "  text-align: left;\n",
       "}\n",
       "#T_9bf69_row0_col1, #T_9bf69_row0_col6, #T_9bf69_row1_col2, #T_9bf69_row4_col4, #T_9bf69_row9_col3, #T_9bf69_row9_col5, #T_9bf69_row9_col7 {\n",
       "  text-align: left;\n",
       "  background-color: yellow;\n",
       "}\n",
       "#T_9bf69_row0_col8, #T_9bf69_row1_col8, #T_9bf69_row2_col8, #T_9bf69_row3_col8, #T_9bf69_row4_col8, #T_9bf69_row5_col8, #T_9bf69_row6_col8, #T_9bf69_row7_col8, #T_9bf69_row8_col8, #T_9bf69_row9_col8, #T_9bf69_row10_col8, #T_9bf69_row11_col8, #T_9bf69_row13_col8 {\n",
       "  text-align: left;\n",
       "  background-color: lightgrey;\n",
       "}\n",
       "#T_9bf69_row12_col8 {\n",
       "  text-align: left;\n",
       "  background-color: yellow;\n",
       "  background-color: lightgrey;\n",
       "}\n",
       "</style>\n",
       "<table id=\"T_9bf69\">\n",
       "  <thead>\n",
       "    <tr>\n",
       "      <th class=\"blank level0\" >&nbsp;</th>\n",
       "      <th id=\"T_9bf69_level0_col0\" class=\"col_heading level0 col0\" >Model</th>\n",
       "      <th id=\"T_9bf69_level0_col1\" class=\"col_heading level0 col1\" >Accuracy</th>\n",
       "      <th id=\"T_9bf69_level0_col2\" class=\"col_heading level0 col2\" >AUC</th>\n",
       "      <th id=\"T_9bf69_level0_col3\" class=\"col_heading level0 col3\" >Recall</th>\n",
       "      <th id=\"T_9bf69_level0_col4\" class=\"col_heading level0 col4\" >Prec.</th>\n",
       "      <th id=\"T_9bf69_level0_col5\" class=\"col_heading level0 col5\" >F1</th>\n",
       "      <th id=\"T_9bf69_level0_col6\" class=\"col_heading level0 col6\" >Kappa</th>\n",
       "      <th id=\"T_9bf69_level0_col7\" class=\"col_heading level0 col7\" >MCC</th>\n",
       "      <th id=\"T_9bf69_level0_col8\" class=\"col_heading level0 col8\" >TT (Sec)</th>\n",
       "    </tr>\n",
       "  </thead>\n",
       "  <tbody>\n",
       "    <tr>\n",
       "      <th id=\"T_9bf69_level0_row0\" class=\"row_heading level0 row0\" >lr</th>\n",
       "      <td id=\"T_9bf69_row0_col0\" class=\"data row0 col0\" >Logistic Regression</td>\n",
       "      <td id=\"T_9bf69_row0_col1\" class=\"data row0 col1\" >0.7931</td>\n",
       "      <td id=\"T_9bf69_row0_col2\" class=\"data row0 col2\" >0.8350</td>\n",
       "      <td id=\"T_9bf69_row0_col3\" class=\"data row0 col3\" >0.5184</td>\n",
       "      <td id=\"T_9bf69_row0_col4\" class=\"data row0 col4\" >0.6360</td>\n",
       "      <td id=\"T_9bf69_row0_col5\" class=\"data row0 col5\" >0.5701</td>\n",
       "      <td id=\"T_9bf69_row0_col6\" class=\"data row0 col6\" >0.4360</td>\n",
       "      <td id=\"T_9bf69_row0_col7\" class=\"data row0 col7\" >0.4406</td>\n",
       "      <td id=\"T_9bf69_row0_col8\" class=\"data row0 col8\" >4.2510</td>\n",
       "    </tr>\n",
       "    <tr>\n",
       "      <th id=\"T_9bf69_level0_row1\" class=\"row_heading level0 row1\" >gbc</th>\n",
       "      <td id=\"T_9bf69_row1_col0\" class=\"data row1 col0\" >Gradient Boosting Classifier</td>\n",
       "      <td id=\"T_9bf69_row1_col1\" class=\"data row1 col1\" >0.7897</td>\n",
       "      <td id=\"T_9bf69_row1_col2\" class=\"data row1 col2\" >0.8355</td>\n",
       "      <td id=\"T_9bf69_row1_col3\" class=\"data row1 col3\" >0.4825</td>\n",
       "      <td id=\"T_9bf69_row1_col4\" class=\"data row1 col4\" >0.6378</td>\n",
       "      <td id=\"T_9bf69_row1_col5\" class=\"data row1 col5\" >0.5486</td>\n",
       "      <td id=\"T_9bf69_row1_col6\" class=\"data row1 col6\" >0.4151</td>\n",
       "      <td id=\"T_9bf69_row1_col7\" class=\"data row1 col7\" >0.4224</td>\n",
       "      <td id=\"T_9bf69_row1_col8\" class=\"data row1 col8\" >0.7450</td>\n",
       "    </tr>\n",
       "    <tr>\n",
       "      <th id=\"T_9bf69_level0_row2\" class=\"row_heading level0 row2\" >ada</th>\n",
       "      <td id=\"T_9bf69_row2_col0\" class=\"data row2 col0\" >Ada Boost Classifier</td>\n",
       "      <td id=\"T_9bf69_row2_col1\" class=\"data row2 col1\" >0.7888</td>\n",
       "      <td id=\"T_9bf69_row2_col2\" class=\"data row2 col2\" >0.8330</td>\n",
       "      <td id=\"T_9bf69_row2_col3\" class=\"data row2 col3\" >0.5039</td>\n",
       "      <td id=\"T_9bf69_row2_col4\" class=\"data row2 col4\" >0.6301</td>\n",
       "      <td id=\"T_9bf69_row2_col5\" class=\"data row2 col5\" >0.5587</td>\n",
       "      <td id=\"T_9bf69_row2_col6\" class=\"data row2 col6\" >0.4223</td>\n",
       "      <td id=\"T_9bf69_row2_col7\" class=\"data row2 col7\" >0.4277</td>\n",
       "      <td id=\"T_9bf69_row2_col8\" class=\"data row2 col8\" >0.2880</td>\n",
       "    </tr>\n",
       "    <tr>\n",
       "      <th id=\"T_9bf69_level0_row3\" class=\"row_heading level0 row3\" >lda</th>\n",
       "      <td id=\"T_9bf69_row3_col0\" class=\"data row3 col0\" >Linear Discriminant Analysis</td>\n",
       "      <td id=\"T_9bf69_row3_col1\" class=\"data row3 col1\" >0.7864</td>\n",
       "      <td id=\"T_9bf69_row3_col2\" class=\"data row3 col2\" >0.8234</td>\n",
       "      <td id=\"T_9bf69_row3_col3\" class=\"data row3 col3\" >0.4894</td>\n",
       "      <td id=\"T_9bf69_row3_col4\" class=\"data row3 col4\" >0.6267</td>\n",
       "      <td id=\"T_9bf69_row3_col5\" class=\"data row3 col5\" >0.5480</td>\n",
       "      <td id=\"T_9bf69_row3_col6\" class=\"data row3 col6\" >0.4113</td>\n",
       "      <td id=\"T_9bf69_row3_col7\" class=\"data row3 col7\" >0.4175</td>\n",
       "      <td id=\"T_9bf69_row3_col8\" class=\"data row3 col8\" >0.0640</td>\n",
       "    </tr>\n",
       "    <tr>\n",
       "      <th id=\"T_9bf69_level0_row4\" class=\"row_heading level0 row4\" >ridge</th>\n",
       "      <td id=\"T_9bf69_row4_col0\" class=\"data row4 col0\" >Ridge Classifier</td>\n",
       "      <td id=\"T_9bf69_row4_col1\" class=\"data row4 col1\" >0.7862</td>\n",
       "      <td id=\"T_9bf69_row4_col2\" class=\"data row4 col2\" >0.0000</td>\n",
       "      <td id=\"T_9bf69_row4_col3\" class=\"data row4 col3\" >0.4244</td>\n",
       "      <td id=\"T_9bf69_row4_col4\" class=\"data row4 col4\" >0.6507</td>\n",
       "      <td id=\"T_9bf69_row4_col5\" class=\"data row4 col5\" >0.5120</td>\n",
       "      <td id=\"T_9bf69_row4_col6\" class=\"data row4 col6\" >0.3832</td>\n",
       "      <td id=\"T_9bf69_row4_col7\" class=\"data row4 col7\" >0.3984</td>\n",
       "      <td id=\"T_9bf69_row4_col8\" class=\"data row4 col8\" >0.0400</td>\n",
       "    </tr>\n",
       "    <tr>\n",
       "      <th id=\"T_9bf69_level0_row5\" class=\"row_heading level0 row5\" >lightgbm</th>\n",
       "      <td id=\"T_9bf69_row5_col0\" class=\"data row5 col0\" >Light Gradient Boosting Machine</td>\n",
       "      <td id=\"T_9bf69_row5_col1\" class=\"data row5 col1\" >0.7828</td>\n",
       "      <td id=\"T_9bf69_row5_col2\" class=\"data row5 col2\" >0.8252</td>\n",
       "      <td id=\"T_9bf69_row5_col3\" class=\"data row5 col3\" >0.4939</td>\n",
       "      <td id=\"T_9bf69_row5_col4\" class=\"data row5 col4\" >0.6132</td>\n",
       "      <td id=\"T_9bf69_row5_col5\" class=\"data row5 col5\" >0.5465</td>\n",
       "      <td id=\"T_9bf69_row5_col6\" class=\"data row5 col6\" >0.4060</td>\n",
       "      <td id=\"T_9bf69_row5_col7\" class=\"data row5 col7\" >0.4104</td>\n",
       "      <td id=\"T_9bf69_row5_col8\" class=\"data row5 col8\" >0.4320</td>\n",
       "    </tr>\n",
       "    <tr>\n",
       "      <th id=\"T_9bf69_level0_row6\" class=\"row_heading level0 row6\" >rf</th>\n",
       "      <td id=\"T_9bf69_row6_col0\" class=\"data row6 col0\" >Random Forest Classifier</td>\n",
       "      <td id=\"T_9bf69_row6_col1\" class=\"data row6 col1\" >0.7720</td>\n",
       "      <td id=\"T_9bf69_row6_col2\" class=\"data row6 col2\" >0.8056</td>\n",
       "      <td id=\"T_9bf69_row6_col3\" class=\"data row6 col3\" >0.4756</td>\n",
       "      <td id=\"T_9bf69_row6_col4\" class=\"data row6 col4\" >0.5881</td>\n",
       "      <td id=\"T_9bf69_row6_col5\" class=\"data row6 col5\" >0.5250</td>\n",
       "      <td id=\"T_9bf69_row6_col6\" class=\"data row6 col6\" >0.3774</td>\n",
       "      <td id=\"T_9bf69_row6_col7\" class=\"data row6 col7\" >0.3816</td>\n",
       "      <td id=\"T_9bf69_row6_col8\" class=\"data row6 col8\" >0.7740</td>\n",
       "    </tr>\n",
       "    <tr>\n",
       "      <th id=\"T_9bf69_level0_row7\" class=\"row_heading level0 row7\" >knn</th>\n",
       "      <td id=\"T_9bf69_row7_col0\" class=\"data row7 col0\" >K Neighbors Classifier</td>\n",
       "      <td id=\"T_9bf69_row7_col1\" class=\"data row7 col1\" >0.7653</td>\n",
       "      <td id=\"T_9bf69_row7_col2\" class=\"data row7 col2\" >0.7432</td>\n",
       "      <td id=\"T_9bf69_row7_col3\" class=\"data row7 col3\" >0.4572</td>\n",
       "      <td id=\"T_9bf69_row7_col4\" class=\"data row7 col4\" >0.5721</td>\n",
       "      <td id=\"T_9bf69_row7_col5\" class=\"data row7 col5\" >0.5077</td>\n",
       "      <td id=\"T_9bf69_row7_col6\" class=\"data row7 col6\" >0.3564</td>\n",
       "      <td id=\"T_9bf69_row7_col7\" class=\"data row7 col7\" >0.3605</td>\n",
       "      <td id=\"T_9bf69_row7_col8\" class=\"data row7 col8\" >0.0800</td>\n",
       "    </tr>\n",
       "    <tr>\n",
       "      <th id=\"T_9bf69_level0_row8\" class=\"row_heading level0 row8\" >et</th>\n",
       "      <td id=\"T_9bf69_row8_col0\" class=\"data row8 col0\" >Extra Trees Classifier</td>\n",
       "      <td id=\"T_9bf69_row8_col1\" class=\"data row8 col1\" >0.7602</td>\n",
       "      <td id=\"T_9bf69_row8_col2\" class=\"data row8 col2\" >0.7847</td>\n",
       "      <td id=\"T_9bf69_row8_col3\" class=\"data row8 col3\" >0.4817</td>\n",
       "      <td id=\"T_9bf69_row8_col4\" class=\"data row8 col4\" >0.5571</td>\n",
       "      <td id=\"T_9bf69_row8_col5\" class=\"data row8 col5\" >0.5155</td>\n",
       "      <td id=\"T_9bf69_row8_col6\" class=\"data row8 col6\" >0.3576</td>\n",
       "      <td id=\"T_9bf69_row8_col7\" class=\"data row8 col7\" >0.3599</td>\n",
       "      <td id=\"T_9bf69_row8_col8\" class=\"data row8 col8\" >0.5200</td>\n",
       "    </tr>\n",
       "    <tr>\n",
       "      <th id=\"T_9bf69_level0_row9\" class=\"row_heading level0 row9\" >qda</th>\n",
       "      <td id=\"T_9bf69_row9_col0\" class=\"data row9 col0\" >Quadratic Discriminant Analysis</td>\n",
       "      <td id=\"T_9bf69_row9_col1\" class=\"data row9 col1\" >0.7471</td>\n",
       "      <td id=\"T_9bf69_row9_col2\" class=\"data row9 col2\" >0.8260</td>\n",
       "      <td id=\"T_9bf69_row9_col3\" class=\"data row9 col3\" >0.7317</td>\n",
       "      <td id=\"T_9bf69_row9_col4\" class=\"data row9 col4\" >0.5177</td>\n",
       "      <td id=\"T_9bf69_row9_col5\" class=\"data row9 col5\" >0.6057</td>\n",
       "      <td id=\"T_9bf69_row9_col6\" class=\"data row9 col6\" >0.4278</td>\n",
       "      <td id=\"T_9bf69_row9_col7\" class=\"data row9 col7\" >0.4422</td>\n",
       "      <td id=\"T_9bf69_row9_col8\" class=\"data row9 col8\" >0.0390</td>\n",
       "    </tr>\n",
       "    <tr>\n",
       "      <th id=\"T_9bf69_level0_row10\" class=\"row_heading level0 row10\" >nb</th>\n",
       "      <td id=\"T_9bf69_row10_col0\" class=\"data row10 col0\" >Naive Bayes</td>\n",
       "      <td id=\"T_9bf69_row10_col1\" class=\"data row10 col1\" >0.7452</td>\n",
       "      <td id=\"T_9bf69_row10_col2\" class=\"data row10 col2\" >0.8115</td>\n",
       "      <td id=\"T_9bf69_row10_col3\" class=\"data row10 col3\" >0.6905</td>\n",
       "      <td id=\"T_9bf69_row10_col4\" class=\"data row10 col4\" >0.5157</td>\n",
       "      <td id=\"T_9bf69_row10_col5\" class=\"data row10 col5\" >0.5895</td>\n",
       "      <td id=\"T_9bf69_row10_col6\" class=\"data row10 col6\" >0.4107</td>\n",
       "      <td id=\"T_9bf69_row10_col7\" class=\"data row10 col7\" >0.4207</td>\n",
       "      <td id=\"T_9bf69_row10_col8\" class=\"data row10 col8\" >0.0380</td>\n",
       "    </tr>\n",
       "    <tr>\n",
       "      <th id=\"T_9bf69_level0_row11\" class=\"row_heading level0 row11\" >svm</th>\n",
       "      <td id=\"T_9bf69_row11_col0\" class=\"data row11 col0\" >SVM - Linear Kernel</td>\n",
       "      <td id=\"T_9bf69_row11_col1\" class=\"data row11 col1\" >0.7404</td>\n",
       "      <td id=\"T_9bf69_row11_col2\" class=\"data row11 col2\" >0.0000</td>\n",
       "      <td id=\"T_9bf69_row11_col3\" class=\"data row11 col3\" >0.4380</td>\n",
       "      <td id=\"T_9bf69_row11_col4\" class=\"data row11 col4\" >0.5922</td>\n",
       "      <td id=\"T_9bf69_row11_col5\" class=\"data row11 col5\" >0.4610</td>\n",
       "      <td id=\"T_9bf69_row11_col6\" class=\"data row11 col6\" >0.3100</td>\n",
       "      <td id=\"T_9bf69_row11_col7\" class=\"data row11 col7\" >0.3402</td>\n",
       "      <td id=\"T_9bf69_row11_col8\" class=\"data row11 col8\" >0.0630</td>\n",
       "    </tr>\n",
       "    <tr>\n",
       "      <th id=\"T_9bf69_level0_row12\" class=\"row_heading level0 row12\" >dummy</th>\n",
       "      <td id=\"T_9bf69_row12_col0\" class=\"data row12 col0\" >Dummy Classifier</td>\n",
       "      <td id=\"T_9bf69_row12_col1\" class=\"data row12 col1\" >0.7347</td>\n",
       "      <td id=\"T_9bf69_row12_col2\" class=\"data row12 col2\" >0.5000</td>\n",
       "      <td id=\"T_9bf69_row12_col3\" class=\"data row12 col3\" >0.0000</td>\n",
       "      <td id=\"T_9bf69_row12_col4\" class=\"data row12 col4\" >0.0000</td>\n",
       "      <td id=\"T_9bf69_row12_col5\" class=\"data row12 col5\" >0.0000</td>\n",
       "      <td id=\"T_9bf69_row12_col6\" class=\"data row12 col6\" >0.0000</td>\n",
       "      <td id=\"T_9bf69_row12_col7\" class=\"data row12 col7\" >0.0000</td>\n",
       "      <td id=\"T_9bf69_row12_col8\" class=\"data row12 col8\" >0.0320</td>\n",
       "    </tr>\n",
       "    <tr>\n",
       "      <th id=\"T_9bf69_level0_row13\" class=\"row_heading level0 row13\" >dt</th>\n",
       "      <td id=\"T_9bf69_row13_col0\" class=\"data row13 col0\" >Decision Tree Classifier</td>\n",
       "      <td id=\"T_9bf69_row13_col1\" class=\"data row13 col1\" >0.7262</td>\n",
       "      <td id=\"T_9bf69_row13_col2\" class=\"data row13 col2\" >0.6550</td>\n",
       "      <td id=\"T_9bf69_row13_col3\" class=\"data row13 col3\" >0.4916</td>\n",
       "      <td id=\"T_9bf69_row13_col4\" class=\"data row13 col4\" >0.4863</td>\n",
       "      <td id=\"T_9bf69_row13_col5\" class=\"data row13 col5\" >0.4881</td>\n",
       "      <td id=\"T_9bf69_row13_col6\" class=\"data row13 col6\" >0.3015</td>\n",
       "      <td id=\"T_9bf69_row13_col7\" class=\"data row13 col7\" >0.3020</td>\n",
       "      <td id=\"T_9bf69_row13_col8\" class=\"data row13 col8\" >0.0480</td>\n",
       "    </tr>\n",
       "  </tbody>\n",
       "</table>\n"
      ],
      "text/plain": [
       "<pandas.io.formats.style.Styler at 0x20bab920c70>"
      ]
     },
     "metadata": {},
     "output_type": "display_data"
    },
    {
     "data": {
      "text/html": [],
      "text/plain": [
       "<IPython.core.display.HTML object>"
      ]
     },
     "metadata": {},
     "output_type": "display_data"
    }
   ],
   "source": [
    "best_model = automl.compare_models()"
   ]
  },
  {
   "cell_type": "markdown",
   "id": "1a605e1c",
   "metadata": {},
   "source": [
    "Within the notebook, this updates in real time as it's fitting. We can see the boosting algorithms like xgboost and catboost take the longest to run. Often xgboost will be near the top. To get xgboost and lightgbm working, we either need to allow preprocessing (which converts categorical columns into numeric columns).\n",
    "\n",
    "Our best_model object now holds the highest-scoring model. We can also set an argument `sort` in `compare_models` to choose another metric as our scoring metric. By default, it uses accuracy (and we can see the table above is sorted by accuracy). We could set this to `sort='Precision'` to use precision (TP / (TP + FN)), for example."
   ]
  },
  {
   "cell_type": "code",
   "execution_count": 41,
   "id": "2092f87d",
   "metadata": {},
   "outputs": [
    {
     "data": {
      "text/html": [
       "<style>#sk-container-id-2 {color: black;background-color: white;}#sk-container-id-2 pre{padding: 0;}#sk-container-id-2 div.sk-toggleable {background-color: white;}#sk-container-id-2 label.sk-toggleable__label {cursor: pointer;display: block;width: 100%;margin-bottom: 0;padding: 0.3em;box-sizing: border-box;text-align: center;}#sk-container-id-2 label.sk-toggleable__label-arrow:before {content: \"▸\";float: left;margin-right: 0.25em;color: #696969;}#sk-container-id-2 label.sk-toggleable__label-arrow:hover:before {color: black;}#sk-container-id-2 div.sk-estimator:hover label.sk-toggleable__label-arrow:before {color: black;}#sk-container-id-2 div.sk-toggleable__content {max-height: 0;max-width: 0;overflow: hidden;text-align: left;background-color: #f0f8ff;}#sk-container-id-2 div.sk-toggleable__content pre {margin: 0.2em;color: black;border-radius: 0.25em;background-color: #f0f8ff;}#sk-container-id-2 input.sk-toggleable__control:checked~div.sk-toggleable__content {max-height: 200px;max-width: 100%;overflow: auto;}#sk-container-id-2 input.sk-toggleable__control:checked~label.sk-toggleable__label-arrow:before {content: \"▾\";}#sk-container-id-2 div.sk-estimator input.sk-toggleable__control:checked~label.sk-toggleable__label {background-color: #d4ebff;}#sk-container-id-2 div.sk-label input.sk-toggleable__control:checked~label.sk-toggleable__label {background-color: #d4ebff;}#sk-container-id-2 input.sk-hidden--visually {border: 0;clip: rect(1px 1px 1px 1px);clip: rect(1px, 1px, 1px, 1px);height: 1px;margin: -1px;overflow: hidden;padding: 0;position: absolute;width: 1px;}#sk-container-id-2 div.sk-estimator {font-family: monospace;background-color: #f0f8ff;border: 1px dotted black;border-radius: 0.25em;box-sizing: border-box;margin-bottom: 0.5em;}#sk-container-id-2 div.sk-estimator:hover {background-color: #d4ebff;}#sk-container-id-2 div.sk-parallel-item::after {content: \"\";width: 100%;border-bottom: 1px solid gray;flex-grow: 1;}#sk-container-id-2 div.sk-label:hover label.sk-toggleable__label {background-color: #d4ebff;}#sk-container-id-2 div.sk-serial::before {content: \"\";position: absolute;border-left: 1px solid gray;box-sizing: border-box;top: 0;bottom: 0;left: 50%;z-index: 0;}#sk-container-id-2 div.sk-serial {display: flex;flex-direction: column;align-items: center;background-color: white;padding-right: 0.2em;padding-left: 0.2em;position: relative;}#sk-container-id-2 div.sk-item {position: relative;z-index: 1;}#sk-container-id-2 div.sk-parallel {display: flex;align-items: stretch;justify-content: center;background-color: white;position: relative;}#sk-container-id-2 div.sk-item::before, #sk-container-id-2 div.sk-parallel-item::before {content: \"\";position: absolute;border-left: 1px solid gray;box-sizing: border-box;top: 0;bottom: 0;left: 50%;z-index: -1;}#sk-container-id-2 div.sk-parallel-item {display: flex;flex-direction: column;z-index: 1;position: relative;background-color: white;}#sk-container-id-2 div.sk-parallel-item:first-child::after {align-self: flex-end;width: 50%;}#sk-container-id-2 div.sk-parallel-item:last-child::after {align-self: flex-start;width: 50%;}#sk-container-id-2 div.sk-parallel-item:only-child::after {width: 0;}#sk-container-id-2 div.sk-dashed-wrapped {border: 1px dashed gray;margin: 0 0.4em 0.5em 0.4em;box-sizing: border-box;padding-bottom: 0.4em;background-color: white;}#sk-container-id-2 div.sk-label label {font-family: monospace;font-weight: bold;display: inline-block;line-height: 1.2em;}#sk-container-id-2 div.sk-label-container {text-align: center;}#sk-container-id-2 div.sk-container {/* jupyter's `normalize.less` sets `[hidden] { display: none; }` but bootstrap.min.css set `[hidden] { display: none !important; }` so we also need the `!important` here to be able to override the default hidden behavior on the sphinx rendered scikit-learn.org. See: https://github.com/scikit-learn/scikit-learn/issues/21755 */display: inline-block !important;position: relative;}#sk-container-id-2 div.sk-text-repr-fallback {display: none;}</style><div id=\"sk-container-id-2\" class=\"sk-top-container\"><div class=\"sk-text-repr-fallback\"><pre>LogisticRegression(C=1.0, class_weight=None, dual=False, fit_intercept=True,\n",
       "                   intercept_scaling=1, l1_ratio=None, max_iter=1000,\n",
       "                   multi_class=&#x27;auto&#x27;, n_jobs=None, penalty=&#x27;l2&#x27;,\n",
       "                   random_state=6640, solver=&#x27;lbfgs&#x27;, tol=0.0001, verbose=0,\n",
       "                   warm_start=False)</pre><b>In a Jupyter environment, please rerun this cell to show the HTML representation or trust the notebook. <br />On GitHub, the HTML representation is unable to render, please try loading this page with nbviewer.org.</b></div><div class=\"sk-container\" hidden><div class=\"sk-item\"><div class=\"sk-estimator sk-toggleable\"><input class=\"sk-toggleable__control sk-hidden--visually\" id=\"sk-estimator-id-2\" type=\"checkbox\" checked><label for=\"sk-estimator-id-2\" class=\"sk-toggleable__label sk-toggleable__label-arrow\">LogisticRegression</label><div class=\"sk-toggleable__content\"><pre>LogisticRegression(C=1.0, class_weight=None, dual=False, fit_intercept=True,\n",
       "                   intercept_scaling=1, l1_ratio=None, max_iter=1000,\n",
       "                   multi_class=&#x27;auto&#x27;, n_jobs=None, penalty=&#x27;l2&#x27;,\n",
       "                   random_state=6640, solver=&#x27;lbfgs&#x27;, tol=0.0001, verbose=0,\n",
       "                   warm_start=False)</pre></div></div></div></div></div>"
      ],
      "text/plain": [
       "LogisticRegression(C=1.0, class_weight=None, dual=False, fit_intercept=True,\n",
       "                   intercept_scaling=1, l1_ratio=None, max_iter=1000,\n",
       "                   multi_class='auto', n_jobs=None, penalty='l2',\n",
       "                   random_state=6640, solver='lbfgs', tol=0.0001, verbose=0,\n",
       "                   warm_start=False)"
      ]
     },
     "execution_count": 41,
     "metadata": {},
     "output_type": "execute_result"
    }
   ],
   "source": [
    "best_model"
   ]
  },
  {
   "cell_type": "markdown",
   "id": "16a431f5",
   "metadata": {},
   "source": [
    "We can now plot a variety of information about the best model:"
   ]
  },
  {
   "cell_type": "code",
   "execution_count": 42,
   "id": "37bb79b2",
   "metadata": {},
   "outputs": [
    {
     "data": {
      "application/vnd.jupyter.widget-view+json": {
       "model_id": "f641d173d97c42d4bc85f4432e3816b8",
       "version_major": 2,
       "version_minor": 0
      },
      "text/plain": [
       "interactive(children=(ToggleButtons(description='Plot Type:', icons=('',), options=(('Pipeline Plot', 'pipelin…"
      ]
     },
     "metadata": {},
     "output_type": "display_data"
    }
   ],
   "source": [
    "automl.evaluate_model(best_model)"
   ]
  },
  {
   "cell_type": "code",
   "execution_count": 43,
   "id": "b8d0306d",
   "metadata": {},
   "outputs": [
    {
     "data": {
      "text/html": [],
      "text/plain": [
       "<IPython.core.display.HTML object>"
      ]
     },
     "metadata": {},
     "output_type": "display_data"
    },
    {
     "data": {
      "image/png": "[encoded data removed]",
      "text/plain": [
       "<Figure size 800x550 with 1 Axes>"
      ]
     },
     "metadata": {},
     "output_type": "display_data"
    }
   ],
   "source": [
    "automl.plot_model(best_model)"
   ]
  },
  {
   "cell_type": "markdown",
   "id": "016c4082",
   "metadata": {},
   "source": [
    "It looks like our best model is LogisticRegression, closely followed by some others. This may change when you re-run this - there is some randomness built in that we are not fixing (e.g. for the cross-validation splits possibly), so the top model may be different each time this is run since the accuracy scores are so similar between models.\n",
    "\n",
    "PyCaret can also plot a confusion matrix for us:"
   ]
  },
  {
   "cell_type": "code",
   "execution_count": 44,
   "id": "3965a8d5",
   "metadata": {},
   "outputs": [
    {
     "data": {
      "text/html": [],
      "text/plain": [
       "<IPython.core.display.HTML object>"
      ]
     },
     "metadata": {},
     "output_type": "display_data"
    },
    {
     "data": {
      "image/png": "[encoded data removed]",
      "text/plain": [
       "<Figure size 800x550 with 1 Axes>"
      ]
     },
     "metadata": {},
     "output_type": "display_data"
    }
   ],
   "source": [
    "automl.plot_model(best_model, plot = 'confusion_matrix')"
   ]
  },
  {
   "cell_type": "markdown",
   "id": "e0ac727a",
   "metadata": {},
   "source": [
    "We can now make predictions. For example, we can make predictions on the last row:"
   ]
  },
  {
   "cell_type": "code",
   "execution_count": 46,
   "id": "ebfc95bb",
   "metadata": {},
   "outputs": [
    {
     "data": {
      "text/plain": [
       "(1, 10)"
      ]
     },
     "execution_count": 46,
     "metadata": {},
     "output_type": "execute_result"
    }
   ],
   "source": [
    "df.iloc[-2:-1].shape"
   ]
  },
  {
   "cell_type": "markdown",
   "id": "5cd93c10",
   "metadata": {},
   "source": [
    "We are selecting the last row, but using the indexing `[-2:-1]` to make it a 2D array instead of 1D (which throws an error). Try running `df.iloc[-1].shape` and `df.iloc[-2:-1].shape` to see how they differ.\n",
    "\n",
    "We can use pycaret's predict_model function with the row above:"
   ]
  },
  {
   "cell_type": "code",
   "execution_count": 47,
   "id": "f3de8bcc",
   "metadata": {},
   "outputs": [
    {
     "data": {
      "text/plain": [
       "(10,)"
      ]
     },
     "execution_count": 47,
     "metadata": {},
     "output_type": "execute_result"
    }
   ],
   "source": [
    "df.iloc[-2].shape"
   ]
  },
  {
   "cell_type": "code",
   "execution_count": 48,
   "id": "bc93bd2c",
   "metadata": {},
   "outputs": [
    {
     "data": {
      "text/html": [],
      "text/plain": [
       "<IPython.core.display.HTML object>"
      ]
     },
     "metadata": {},
     "output_type": "display_data"
    },
    {
     "data": {
      "text/html": [
       "<div>\n",
       "<style scoped>\n",
       "    .dataframe tbody tr th:only-of-type {\n",
       "        vertical-align: middle;\n",
       "    }\n",
       "\n",
       "    .dataframe tbody tr th {\n",
       "        vertical-align: top;\n",
       "    }\n",
       "\n",
       "    .dataframe thead th {\n",
       "        text-align: right;\n",
       "    }\n",
       "</style>\n",
       "<table border=\"1\" class=\"dataframe\">\n",
       "  <thead>\n",
       "    <tr style=\"text-align: right;\">\n",
       "      <th></th>\n",
       "      <th>tenure</th>\n",
       "      <th>PhoneService</th>\n",
       "      <th>Contract</th>\n",
       "      <th>MonthlyCharges</th>\n",
       "      <th>TotalCharges</th>\n",
       "      <th>Credit card (automatic)</th>\n",
       "      <th>Electronic check</th>\n",
       "      <th>Mailed check</th>\n",
       "      <th>Total_tenure_ratio</th>\n",
       "      <th>Churn</th>\n",
       "      <th>prediction_label</th>\n",
       "      <th>prediction_score</th>\n",
       "    </tr>\n",
       "  </thead>\n",
       "  <tbody>\n",
       "    <tr>\n",
       "      <th>7041</th>\n",
       "      <td>4</td>\n",
       "      <td>1</td>\n",
       "      <td>0</td>\n",
       "      <td>74.400002</td>\n",
       "      <td>306.600006</td>\n",
       "      <td>0</td>\n",
       "      <td>0</td>\n",
       "      <td>1</td>\n",
       "      <td>76.650002</td>\n",
       "      <td>1</td>\n",
       "      <td>0</td>\n",
       "      <td>0.5063</td>\n",
       "    </tr>\n",
       "  </tbody>\n",
       "</table>\n",
       "</div>"
      ],
      "text/plain": [
       "      tenure  PhoneService  Contract  MonthlyCharges  TotalCharges  \\\n",
       "7041       4             1         0       74.400002    306.600006   \n",
       "\n",
       "      Credit card (automatic)  Electronic check  Mailed check  \\\n",
       "7041                        0                 0             1   \n",
       "\n",
       "      Total_tenure_ratio  Churn  prediction_label  prediction_score  \n",
       "7041           76.650002      1                 0            0.5063  "
      ]
     },
     "execution_count": 48,
     "metadata": {},
     "output_type": "execute_result"
    }
   ],
   "source": [
    "automl.predict_model(best_model, df.iloc[-2:-1])"
   ]
  },
  {
   "cell_type": "markdown",
   "id": "1d8a9700",
   "metadata": {},
   "source": [
    "We can see this creates a new column, 'Score', with the probability of class 1. It also creates a 'Label' column with the predicted label, where it rounds up if score is >= 0.5 (greater than or equal to 0.5).\n",
    "\n",
    "We can also do predictions for the whole dataset:"
   ]
  },
  {
   "cell_type": "code",
   "execution_count": 57,
   "id": "6e05f519",
   "metadata": {},
   "outputs": [
    {
     "data": {
      "text/html": [
       "<style type=\"text/css\">\n",
       "</style>\n",
       "<table id=\"T_a5255\">\n",
       "  <thead>\n",
       "    <tr>\n",
       "      <th class=\"blank level0\" >&nbsp;</th>\n",
       "      <th id=\"T_a5255_level0_col0\" class=\"col_heading level0 col0\" >Model</th>\n",
       "      <th id=\"T_a5255_level0_col1\" class=\"col_heading level0 col1\" >Accuracy</th>\n",
       "      <th id=\"T_a5255_level0_col2\" class=\"col_heading level0 col2\" >AUC</th>\n",
       "      <th id=\"T_a5255_level0_col3\" class=\"col_heading level0 col3\" >Recall</th>\n",
       "      <th id=\"T_a5255_level0_col4\" class=\"col_heading level0 col4\" >Prec.</th>\n",
       "      <th id=\"T_a5255_level0_col5\" class=\"col_heading level0 col5\" >F1</th>\n",
       "      <th id=\"T_a5255_level0_col6\" class=\"col_heading level0 col6\" >Kappa</th>\n",
       "      <th id=\"T_a5255_level0_col7\" class=\"col_heading level0 col7\" >MCC</th>\n",
       "    </tr>\n",
       "  </thead>\n",
       "  <tbody>\n",
       "    <tr>\n",
       "      <th id=\"T_a5255_level0_row0\" class=\"row_heading level0 row0\" >0</th>\n",
       "      <td id=\"T_a5255_row0_col0\" class=\"data row0 col0\" >Logistic Regression</td>\n",
       "      <td id=\"T_a5255_row0_col1\" class=\"data row0 col1\" >0.7938</td>\n",
       "      <td id=\"T_a5255_row0_col2\" class=\"data row0 col2\" >0.8367</td>\n",
       "      <td id=\"T_a5255_row0_col3\" class=\"data row0 col3\" >0.5217</td>\n",
       "      <td id=\"T_a5255_row0_col4\" class=\"data row0 col4\" >0.6360</td>\n",
       "      <td id=\"T_a5255_row0_col5\" class=\"data row0 col5\" >0.5732</td>\n",
       "      <td id=\"T_a5255_row0_col6\" class=\"data row0 col6\" >0.4390</td>\n",
       "      <td id=\"T_a5255_row0_col7\" class=\"data row0 col7\" >0.4428</td>\n",
       "    </tr>\n",
       "  </tbody>\n",
       "</table>\n"
      ],
      "text/plain": [
       "<pandas.io.formats.style.Styler at 0x20bab709720>"
      ]
     },
     "metadata": {},
     "output_type": "display_data"
    }
   ],
   "source": [
    "predictions = automl.predict_model(best_model, data=df)"
   ]
  },
  {
   "cell_type": "code",
   "execution_count": 50,
   "id": "2c065b3b",
   "metadata": {},
   "outputs": [
    {
     "data": {
      "text/html": [
       "<div>\n",
       "<style scoped>\n",
       "    .dataframe tbody tr th:only-of-type {\n",
       "        vertical-align: middle;\n",
       "    }\n",
       "\n",
       "    .dataframe tbody tr th {\n",
       "        vertical-align: top;\n",
       "    }\n",
       "\n",
       "    .dataframe thead th {\n",
       "        text-align: right;\n",
       "    }\n",
       "</style>\n",
       "<table border=\"1\" class=\"dataframe\">\n",
       "  <thead>\n",
       "    <tr style=\"text-align: right;\">\n",
       "      <th></th>\n",
       "      <th>tenure</th>\n",
       "      <th>PhoneService</th>\n",
       "      <th>Contract</th>\n",
       "      <th>MonthlyCharges</th>\n",
       "      <th>TotalCharges</th>\n",
       "      <th>Credit card (automatic)</th>\n",
       "      <th>Electronic check</th>\n",
       "      <th>Mailed check</th>\n",
       "      <th>Total_tenure_ratio</th>\n",
       "      <th>Churn</th>\n",
       "      <th>prediction_label</th>\n",
       "      <th>prediction_score</th>\n",
       "    </tr>\n",
       "  </thead>\n",
       "  <tbody>\n",
       "    <tr>\n",
       "      <th>0</th>\n",
       "      <td>1</td>\n",
       "      <td>0</td>\n",
       "      <td>0</td>\n",
       "      <td>29.850000</td>\n",
       "      <td>29.850000</td>\n",
       "      <td>0</td>\n",
       "      <td>1</td>\n",
       "      <td>0</td>\n",
       "      <td>29.850000</td>\n",
       "      <td>0</td>\n",
       "      <td>1</td>\n",
       "      <td>0.5867</td>\n",
       "    </tr>\n",
       "    <tr>\n",
       "      <th>1</th>\n",
       "      <td>34</td>\n",
       "      <td>1</td>\n",
       "      <td>1</td>\n",
       "      <td>56.950001</td>\n",
       "      <td>1889.500000</td>\n",
       "      <td>0</td>\n",
       "      <td>0</td>\n",
       "      <td>1</td>\n",
       "      <td>55.573528</td>\n",
       "      <td>0</td>\n",
       "      <td>0</td>\n",
       "      <td>0.9461</td>\n",
       "    </tr>\n",
       "    <tr>\n",
       "      <th>2</th>\n",
       "      <td>2</td>\n",
       "      <td>1</td>\n",
       "      <td>0</td>\n",
       "      <td>53.849998</td>\n",
       "      <td>108.150002</td>\n",
       "      <td>0</td>\n",
       "      <td>0</td>\n",
       "      <td>1</td>\n",
       "      <td>54.075001</td>\n",
       "      <td>1</td>\n",
       "      <td>0</td>\n",
       "      <td>0.6236</td>\n",
       "    </tr>\n",
       "    <tr>\n",
       "      <th>3</th>\n",
       "      <td>45</td>\n",
       "      <td>0</td>\n",
       "      <td>1</td>\n",
       "      <td>42.299999</td>\n",
       "      <td>1840.750000</td>\n",
       "      <td>0</td>\n",
       "      <td>0</td>\n",
       "      <td>0</td>\n",
       "      <td>40.905556</td>\n",
       "      <td>0</td>\n",
       "      <td>0</td>\n",
       "      <td>0.9371</td>\n",
       "    </tr>\n",
       "    <tr>\n",
       "      <th>4</th>\n",
       "      <td>2</td>\n",
       "      <td>1</td>\n",
       "      <td>0</td>\n",
       "      <td>70.699997</td>\n",
       "      <td>151.649994</td>\n",
       "      <td>0</td>\n",
       "      <td>1</td>\n",
       "      <td>0</td>\n",
       "      <td>75.824997</td>\n",
       "      <td>1</td>\n",
       "      <td>1</td>\n",
       "      <td>0.6274</td>\n",
       "    </tr>\n",
       "  </tbody>\n",
       "</table>\n",
       "</div>"
      ],
      "text/plain": [
       "   tenure  PhoneService  Contract  MonthlyCharges  TotalCharges  \\\n",
       "0       1             0         0       29.850000     29.850000   \n",
       "1      34             1         1       56.950001   1889.500000   \n",
       "2       2             1         0       53.849998    108.150002   \n",
       "3      45             0         1       42.299999   1840.750000   \n",
       "4       2             1         0       70.699997    151.649994   \n",
       "\n",
       "   Credit card (automatic)  Electronic check  Mailed check  \\\n",
       "0                        0                 1             0   \n",
       "1                        0                 0             1   \n",
       "2                        0                 0             1   \n",
       "3                        0                 0             0   \n",
       "4                        0                 1             0   \n",
       "\n",
       "   Total_tenure_ratio  Churn  prediction_label  prediction_score  \n",
       "0           29.850000      0                 1            0.5867  \n",
       "1           55.573528      0                 0            0.9461  \n",
       "2           54.075001      1                 0            0.6236  \n",
       "3           40.905556      0                 0            0.9371  \n",
       "4           75.824997      1                 1            0.6274  "
      ]
     },
     "execution_count": 50,
     "metadata": {},
     "output_type": "execute_result"
    }
   ],
   "source": [
    "predictions.head()"
   ]
  },
  {
   "cell_type": "markdown",
   "id": "08654860",
   "metadata": {},
   "source": [
    "## Saving and loading our model"
   ]
  },
  {
   "cell_type": "markdown",
   "id": "9d0a827c",
   "metadata": {},
   "source": [
    "Next, we want to save our trained model so we can use it in a Python file later. pycaret has a handy function for this, which saves the model as a pickle file:"
   ]
  },
  {
   "cell_type": "code",
   "execution_count": 51,
   "id": "371b3506",
   "metadata": {},
   "outputs": [
    {
     "name": "stdout",
     "output_type": "stream",
     "text": [
      "Transformation Pipeline and Model Successfully Saved\n"
     ]
    },
    {
     "data": {
      "text/plain": [
       "(Pipeline(memory=Memory(location=None),\n",
       "          steps=[('numerical_imputer',\n",
       "                  TransformerWrapper(exclude=None,\n",
       "                                     include=['tenure', 'PhoneService',\n",
       "                                              'Contract', 'MonthlyCharges',\n",
       "                                              'TotalCharges',\n",
       "                                              'Credit card (automatic)',\n",
       "                                              'Electronic check', 'Mailed check',\n",
       "                                              'Total_tenure_ratio'],\n",
       "                                     transformer=SimpleImputer(add_indicator=False,\n",
       "                                                               copy=True,\n",
       "                                                               fill_value=None,\n",
       "                                                               keep_empty_features=False,...\n",
       "                  TransformerWrapper(exclude=None, include=None,\n",
       "                                     transformer=CleanColumnNames(match='[\\\\]\\\\[\\\\,\\\\{\\\\}\\\\\"\\\\:]+'))),\n",
       "                 ('trained_model',\n",
       "                  LogisticRegression(C=1.0, class_weight=None, dual=False,\n",
       "                                     fit_intercept=True, intercept_scaling=1,\n",
       "                                     l1_ratio=None, max_iter=1000,\n",
       "                                     multi_class='auto', n_jobs=None,\n",
       "                                     penalty='l2', random_state=6640,\n",
       "                                     solver='lbfgs', tol=0.0001, verbose=0,\n",
       "                                     warm_start=False))],\n",
       "          verbose=False),\n",
       " 'pycaret_model.pkl')"
      ]
     },
     "execution_count": 51,
     "metadata": {},
     "output_type": "execute_result"
    }
   ],
   "source": [
    "automl.save_model(best_model, 'pycaret_model')"
   ]
  },
  {
   "cell_type": "markdown",
   "id": "1108d23f",
   "metadata": {},
   "source": [
    "`pickle` is a built-in module in the Python standard library which allows for saving and loading of binary data. It's data that's been encoded (usually using hexidecimal encoding) to a file, and we can store any Python object as-is in a pickle file. Then we can load the data from the file and be right back where we left off. \n",
    "\n",
    "Once we have our saved pycaret model, we can test loading it and making predictions to make sure it works:"
   ]
  },
  {
   "cell_type": "code",
   "execution_count": 52,
   "id": "85bc9b98",
   "metadata": {},
   "outputs": [
    {
     "name": "stdout",
     "output_type": "stream",
     "text": [
      "Transformation Pipeline and Model Successfully Loaded\n"
     ]
    }
   ],
   "source": [
    "new_pycaret = ClassificationExperiment()\n",
    "loaded_model = new_pycaret.load_model('pycaret_model')"
   ]
  },
  {
   "cell_type": "code",
   "execution_count": 53,
   "id": "c78b67e5",
   "metadata": {},
   "outputs": [],
   "source": [
    "new_data = df.iloc[-2:-1]"
   ]
  },
  {
   "cell_type": "code",
   "execution_count": 54,
   "id": "192916f8",
   "metadata": {},
   "outputs": [
    {
     "data": {
      "text/html": [
       "<div>\n",
       "<style scoped>\n",
       "    .dataframe tbody tr th:only-of-type {\n",
       "        vertical-align: middle;\n",
       "    }\n",
       "\n",
       "    .dataframe tbody tr th {\n",
       "        vertical-align: top;\n",
       "    }\n",
       "\n",
       "    .dataframe thead th {\n",
       "        text-align: right;\n",
       "    }\n",
       "</style>\n",
       "<table border=\"1\" class=\"dataframe\">\n",
       "  <thead>\n",
       "    <tr style=\"text-align: right;\">\n",
       "      <th></th>\n",
       "      <th>tenure</th>\n",
       "      <th>PhoneService</th>\n",
       "      <th>Contract</th>\n",
       "      <th>MonthlyCharges</th>\n",
       "      <th>TotalCharges</th>\n",
       "      <th>Credit card (automatic)</th>\n",
       "      <th>Electronic check</th>\n",
       "      <th>Mailed check</th>\n",
       "      <th>Total_tenure_ratio</th>\n",
       "      <th>Churn</th>\n",
       "      <th>prediction_label</th>\n",
       "      <th>prediction_score</th>\n",
       "    </tr>\n",
       "  </thead>\n",
       "  <tbody>\n",
       "    <tr>\n",
       "      <th>7041</th>\n",
       "      <td>4</td>\n",
       "      <td>1</td>\n",
       "      <td>0</td>\n",
       "      <td>74.400002</td>\n",
       "      <td>306.600006</td>\n",
       "      <td>0</td>\n",
       "      <td>0</td>\n",
       "      <td>1</td>\n",
       "      <td>76.650002</td>\n",
       "      <td>1</td>\n",
       "      <td>0</td>\n",
       "      <td>0.5063</td>\n",
       "    </tr>\n",
       "  </tbody>\n",
       "</table>\n",
       "</div>"
      ],
      "text/plain": [
       "      tenure  PhoneService  Contract  MonthlyCharges  TotalCharges  \\\n",
       "7041       4             1         0       74.400002    306.600006   \n",
       "\n",
       "      Credit card (automatic)  Electronic check  Mailed check  \\\n",
       "7041                        0                 0             1   \n",
       "\n",
       "      Total_tenure_ratio  Churn  prediction_label  prediction_score  \n",
       "7041           76.650002      1                 0            0.5063  "
      ]
     },
     "execution_count": 54,
     "metadata": {},
     "output_type": "execute_result"
    }
   ],
   "source": [
    "new_pycaret.predict_model(loaded_model, new_data)"
   ]
  },
  {
   "cell_type": "markdown",
   "id": "937d103d",
   "metadata": {},
   "source": [
    "# Making a Python module to make predictions"
   ]
  },
  {
   "cell_type": "markdown",
   "id": "a8b41304",
   "metadata": {},
   "source": [
    "We can now use this model in a Python file to take in new data and make a prediction. We will first need to compose a Python file. We can do this in many ways:\n",
    "\n",
    "- Jupyter and Jupyter Lab\n",
    "- VS Code\n",
    "- Atom\n",
    "- Notepad++\n",
    "- Other text editors or IDEs (integrated development environments)\n",
    "\n",
    "\n",
    "The file we've created is show below:"
   ]
  },
  {
   "cell_type": "code",
   "execution_count": 55,
   "id": "1852af79",
   "metadata": {},
   "outputs": [
    {
     "data": {
      "text/html": [
       "<style>pre { line-height: 125%; }\n",
       "td.linenos .normal { color: inherit; background-color: transparent; padding-left: 5px; padding-right: 5px; }\n",
       "span.linenos { color: inherit; background-color: transparent; padding-left: 5px; padding-right: 5px; }\n",
       "td.linenos .special { color: #000000; background-color: #ffffc0; padding-left: 5px; padding-right: 5px; }\n",
       "span.linenos.special { color: #000000; background-color: #ffffc0; padding-left: 5px; padding-right: 5px; }\n",
       ".output_html .hll { background-color: #ffffcc }\n",
       ".output_html { background: #f8f8f8; }\n",
       ".output_html .c { color: #3D7B7B; font-style: italic } /* Comment */\n",
       ".output_html .err { border: 1px solid #FF0000 } /* Error */\n",
       ".output_html .k { color: #008000; font-weight: bold } /* Keyword */\n",
       ".output_html .o { color: #666666 } /* Operator */\n",
       ".output_html .ch { color: #3D7B7B; font-style: italic } /* Comment.Hashbang */\n",
       ".output_html .cm { color: #3D7B7B; font-style: italic } /* Comment.Multiline */\n",
       ".output_html .cp { color: #9C6500 } /* Comment.Preproc */\n",
       ".output_html .cpf { color: #3D7B7B; font-style: italic } /* Comment.PreprocFile */\n",
       ".output_html .c1 { color: #3D7B7B; font-style: italic } /* Comment.Single */\n",
       ".output_html .cs { color: #3D7B7B; font-style: italic } /* Comment.Special */\n",
       ".output_html .gd { color: #A00000 } /* Generic.Deleted */\n",
       ".output_html .ge { font-style: italic } /* Generic.Emph */\n",
       ".output_html .ges { font-weight: bold; font-style: italic } /* Generic.EmphStrong */\n",
       ".output_html .gr { color: #E40000 } /* Generic.Error */\n",
       ".output_html .gh { color: #000080; font-weight: bold } /* Generic.Heading */\n",
       ".output_html .gi { color: #008400 } /* Generic.Inserted */\n",
       ".output_html .go { color: #717171 } /* Generic.Output */\n",
       ".output_html .gp { color: #000080; font-weight: bold } /* Generic.Prompt */\n",
       ".output_html .gs { font-weight: bold } /* Generic.Strong */\n",
       ".output_html .gu { color: #800080; font-weight: bold } /* Generic.Subheading */\n",
       ".output_html .gt { color: #0044DD } /* Generic.Traceback */\n",
       ".output_html .kc { color: #008000; font-weight: bold } /* Keyword.Constant */\n",
       ".output_html .kd { color: #008000; font-weight: bold } /* Keyword.Declaration */\n",
       ".output_html .kn { color: #008000; font-weight: bold } /* Keyword.Namespace */\n",
       ".output_html .kp { color: #008000 } /* Keyword.Pseudo */\n",
       ".output_html .kr { color: #008000; font-weight: bold } /* Keyword.Reserved */\n",
       ".output_html .kt { color: #B00040 } /* Keyword.Type */\n",
       ".output_html .m { color: #666666 } /* Literal.Number */\n",
       ".output_html .s { color: #BA2121 } /* Literal.String */\n",
       ".output_html .na { color: #687822 } /* Name.Attribute */\n",
       ".output_html .nb { color: #008000 } /* Name.Builtin */\n",
       ".output_html .nc { color: #0000FF; font-weight: bold } /* Name.Class */\n",
       ".output_html .no { color: #880000 } /* Name.Constant */\n",
       ".output_html .nd { color: #AA22FF } /* Name.Decorator */\n",
       ".output_html .ni { color: #717171; font-weight: bold } /* Name.Entity */\n",
       ".output_html .ne { color: #CB3F38; font-weight: bold } /* Name.Exception */\n",
       ".output_html .nf { color: #0000FF } /* Name.Function */\n",
       ".output_html .nl { color: #767600 } /* Name.Label */\n",
       ".output_html .nn { color: #0000FF; font-weight: bold } /* Name.Namespace */\n",
       ".output_html .nt { color: #008000; font-weight: bold } /* Name.Tag */\n",
       ".output_html .nv { color: #19177C } /* Name.Variable */\n",
       ".output_html .ow { color: #AA22FF; font-weight: bold } /* Operator.Word */\n",
       ".output_html .w { color: #bbbbbb } /* Text.Whitespace */\n",
       ".output_html .mb { color: #666666 } /* Literal.Number.Bin */\n",
       ".output_html .mf { color: #666666 } /* Literal.Number.Float */\n",
       ".output_html .mh { color: #666666 } /* Literal.Number.Hex */\n",
       ".output_html .mi { color: #666666 } /* Literal.Number.Integer */\n",
       ".output_html .mo { color: #666666 } /* Literal.Number.Oct */\n",
       ".output_html .sa { color: #BA2121 } /* Literal.String.Affix */\n",
       ".output_html .sb { color: #BA2121 } /* Literal.String.Backtick */\n",
       ".output_html .sc { color: #BA2121 } /* Literal.String.Char */\n",
       ".output_html .dl { color: #BA2121 } /* Literal.String.Delimiter */\n",
       ".output_html .sd { color: #BA2121; font-style: italic } /* Literal.String.Doc */\n",
       ".output_html .s2 { color: #BA2121 } /* Literal.String.Double */\n",
       ".output_html .se { color: #AA5D1F; font-weight: bold } /* Literal.String.Escape */\n",
       ".output_html .sh { color: #BA2121 } /* Literal.String.Heredoc */\n",
       ".output_html .si { color: #A45A77; font-weight: bold } /* Literal.String.Interpol */\n",
       ".output_html .sx { color: #008000 } /* Literal.String.Other */\n",
       ".output_html .sr { color: #A45A77 } /* Literal.String.Regex */\n",
       ".output_html .s1 { color: #BA2121 } /* Literal.String.Single */\n",
       ".output_html .ss { color: #19177C } /* Literal.String.Symbol */\n",
       ".output_html .bp { color: #008000 } /* Name.Builtin.Pseudo */\n",
       ".output_html .fm { color: #0000FF } /* Name.Function.Magic */\n",
       ".output_html .vc { color: #19177C } /* Name.Variable.Class */\n",
       ".output_html .vg { color: #19177C } /* Name.Variable.Global */\n",
       ".output_html .vi { color: #19177C } /* Name.Variable.Instance */\n",
       ".output_html .vm { color: #19177C } /* Name.Variable.Magic */\n",
       ".output_html .il { color: #666666 } /* Literal.Number.Integer.Long */</style><div class=\"highlight\"><pre><span></span><span class=\"kn\">import</span> <span class=\"nn\">pandas</span> <span class=\"k\">as</span> <span class=\"nn\">pd</span>\n",
       "<span class=\"kn\">from</span> <span class=\"nn\">pycaret.classification</span> <span class=\"kn\">import</span> <span class=\"n\">ClassificationExperiment</span>\n",
       "\n",
       "<span class=\"k\">def</span> <span class=\"nf\">load_data</span><span class=\"p\">(</span><span class=\"n\">filepath</span><span class=\"p\">):</span>\n",
       "<span class=\"w\">    </span><span class=\"sd\">&quot;&quot;&quot;</span>\n",
       "<span class=\"sd\">    Loads Churn data into a DataFrame from a string filepath.</span>\n",
       "<span class=\"sd\">    &quot;&quot;&quot;</span>\n",
       "    <span class=\"n\">df</span> <span class=\"o\">=</span> <span class=\"n\">pd</span><span class=\"o\">.</span><span class=\"n\">read_csv</span><span class=\"p\">(</span><span class=\"n\">filepath</span><span class=\"p\">)</span>\n",
       "    <span class=\"k\">return</span> <span class=\"n\">df</span>\n",
       "\n",
       "\n",
       "<span class=\"k\">def</span> <span class=\"nf\">make_predictions</span><span class=\"p\">(</span><span class=\"n\">df</span><span class=\"p\">):</span>\n",
       "<span class=\"w\">    </span><span class=\"sd\">&quot;&quot;&quot;</span>\n",
       "<span class=\"sd\">    Uses the pycaret best model to make predictions on data in the df dataframe.</span>\n",
       "<span class=\"sd\">    &quot;&quot;&quot;</span>\n",
       "    <span class=\"n\">classifier</span> <span class=\"o\">=</span> <span class=\"n\">ClassificationExperiment</span><span class=\"p\">()</span>\n",
       "    <span class=\"n\">model</span> <span class=\"o\">=</span> <span class=\"n\">classifier</span><span class=\"o\">.</span><span class=\"n\">load_model</span><span class=\"p\">(</span><span class=\"s1\">&#39;pycaret_model&#39;</span><span class=\"p\">)</span>\n",
       "    <span class=\"n\">predictions</span> <span class=\"o\">=</span> <span class=\"n\">classifier</span><span class=\"o\">.</span><span class=\"n\">predict_model</span><span class=\"p\">(</span><span class=\"n\">model</span><span class=\"p\">,</span> <span class=\"n\">data</span><span class=\"o\">=</span><span class=\"n\">df</span><span class=\"p\">)</span>\n",
       "    <span class=\"c1\">#predictions.rename({&#39;Label&#39;: &#39;Churn_prediction&#39;}, axis=1, inplace=True)</span>\n",
       "    <span class=\"c1\">#predictions[&#39;Churn_prediction&#39;].replace({1: &#39;Churn&#39;, 0: &#39;Not Churn &#39;},inplace=True)</span>\n",
       "    <span class=\"k\">return</span> <span class=\"n\">predictions</span> <span class=\"c1\">#[&#39;Churn_prediction&#39;]</span>\n",
       "\n",
       "\n",
       "<span class=\"k\">if</span> <span class=\"vm\">__name__</span> <span class=\"o\">==</span> <span class=\"s2\">&quot;__main__&quot;</span><span class=\"p\">:</span>\n",
       "    <span class=\"n\">df</span> <span class=\"o\">=</span> <span class=\"n\">load_data</span><span class=\"p\">(</span><span class=\"s1\">&#39;prepped_churn_data.csv&#39;</span><span class=\"p\">)</span>\n",
       "    <span class=\"n\">predictions</span> <span class=\"o\">=</span> <span class=\"n\">make_predictions</span><span class=\"p\">(</span><span class=\"n\">df</span><span class=\"p\">)</span>\n",
       "    <span class=\"nb\">print</span><span class=\"p\">(</span><span class=\"s1\">&#39;predictions:&#39;</span><span class=\"p\">)</span>\n",
       "    <span class=\"nb\">print</span><span class=\"p\">(</span><span class=\"n\">predictions</span><span class=\"p\">)</span>\n",
       "</pre></div>\n"
      ],
      "text/latex": [
       "\\begin{Verbatim}[commandchars=\\\\\\{\\}]\n",
       "\\PY{k+kn}{import} \\PY{n+nn}{pandas} \\PY{k}{as} \\PY{n+nn}{pd}\n",
       "\\PY{k+kn}{from} \\PY{n+nn}{pycaret}\\PY{n+nn}{.}\\PY{n+nn}{classification} \\PY{k+kn}{import} \\PY{n}{ClassificationExperiment}\n",
       "\n",
       "\\PY{k}{def} \\PY{n+nf}{load\\PYZus{}data}\\PY{p}{(}\\PY{n}{filepath}\\PY{p}{)}\\PY{p}{:}\n",
       "\\PY{+w}{    }\\PY{l+s+sd}{\\PYZdq{}\\PYZdq{}\\PYZdq{}}\n",
       "\\PY{l+s+sd}{    Loads Churn data into a DataFrame from a string filepath.}\n",
       "\\PY{l+s+sd}{    \\PYZdq{}\\PYZdq{}\\PYZdq{}}\n",
       "    \\PY{n}{df} \\PY{o}{=} \\PY{n}{pd}\\PY{o}{.}\\PY{n}{read\\PYZus{}csv}\\PY{p}{(}\\PY{n}{filepath}\\PY{p}{)}\n",
       "    \\PY{k}{return} \\PY{n}{df}\n",
       "\n",
       "\n",
       "\\PY{k}{def} \\PY{n+nf}{make\\PYZus{}predictions}\\PY{p}{(}\\PY{n}{df}\\PY{p}{)}\\PY{p}{:}\n",
       "\\PY{+w}{    }\\PY{l+s+sd}{\\PYZdq{}\\PYZdq{}\\PYZdq{}}\n",
       "\\PY{l+s+sd}{    Uses the pycaret best model to make predictions on data in the df dataframe.}\n",
       "\\PY{l+s+sd}{    \\PYZdq{}\\PYZdq{}\\PYZdq{}}\n",
       "    \\PY{n}{classifier} \\PY{o}{=} \\PY{n}{ClassificationExperiment}\\PY{p}{(}\\PY{p}{)}\n",
       "    \\PY{n}{model} \\PY{o}{=} \\PY{n}{classifier}\\PY{o}{.}\\PY{n}{load\\PYZus{}model}\\PY{p}{(}\\PY{l+s+s1}{\\PYZsq{}}\\PY{l+s+s1}{pycaret\\PYZus{}model}\\PY{l+s+s1}{\\PYZsq{}}\\PY{p}{)}\n",
       "    \\PY{n}{predictions} \\PY{o}{=} \\PY{n}{classifier}\\PY{o}{.}\\PY{n}{predict\\PYZus{}model}\\PY{p}{(}\\PY{n}{model}\\PY{p}{,} \\PY{n}{data}\\PY{o}{=}\\PY{n}{df}\\PY{p}{)}\n",
       "    \\PY{c+c1}{\\PYZsh{}predictions.rename(\\PYZob{}\\PYZsq{}Label\\PYZsq{}: \\PYZsq{}Churn\\PYZus{}prediction\\PYZsq{}\\PYZcb{}, axis=1, inplace=True)}\n",
       "    \\PY{c+c1}{\\PYZsh{}predictions[\\PYZsq{}Churn\\PYZus{}prediction\\PYZsq{}].replace(\\PYZob{}1: \\PYZsq{}Churn\\PYZsq{}, 0: \\PYZsq{}Not Churn \\PYZsq{}\\PYZcb{},inplace=True)}\n",
       "    \\PY{k}{return} \\PY{n}{predictions} \\PY{c+c1}{\\PYZsh{}[\\PYZsq{}Churn\\PYZus{}prediction\\PYZsq{}]}\n",
       "\n",
       "\n",
       "\\PY{k}{if} \\PY{n+nv+vm}{\\PYZus{}\\PYZus{}name\\PYZus{}\\PYZus{}} \\PY{o}{==} \\PY{l+s+s2}{\\PYZdq{}}\\PY{l+s+s2}{\\PYZus{}\\PYZus{}main\\PYZus{}\\PYZus{}}\\PY{l+s+s2}{\\PYZdq{}}\\PY{p}{:}\n",
       "    \\PY{n}{df} \\PY{o}{=} \\PY{n}{load\\PYZus{}data}\\PY{p}{(}\\PY{l+s+s1}{\\PYZsq{}}\\PY{l+s+s1}{prepped\\PYZus{}churn\\PYZus{}data.csv}\\PY{l+s+s1}{\\PYZsq{}}\\PY{p}{)}\n",
       "    \\PY{n}{predictions} \\PY{o}{=} \\PY{n}{make\\PYZus{}predictions}\\PY{p}{(}\\PY{n}{df}\\PY{p}{)}\n",
       "    \\PY{n+nb}{print}\\PY{p}{(}\\PY{l+s+s1}{\\PYZsq{}}\\PY{l+s+s1}{predictions:}\\PY{l+s+s1}{\\PYZsq{}}\\PY{p}{)}\n",
       "    \\PY{n+nb}{print}\\PY{p}{(}\\PY{n}{predictions}\\PY{p}{)}\n",
       "\\end{Verbatim}\n"
      ],
      "text/plain": [
       "import pandas as pd\n",
       "from pycaret.classification import ClassificationExperiment\n",
       "\n",
       "def load_data(filepath):\n",
       "    \"\"\"\n",
       "    Loads Churn data into a DataFrame from a string filepath.\n",
       "    \"\"\"\n",
       "    df = pd.read_csv(filepath)\n",
       "    return df\n",
       "\n",
       "\n",
       "def make_predictions(df):\n",
       "    \"\"\"\n",
       "    Uses the pycaret best model to make predictions on data in the df dataframe.\n",
       "    \"\"\"\n",
       "    classifier = ClassificationExperiment()\n",
       "    model = classifier.load_model('pycaret_model')\n",
       "    predictions = classifier.predict_model(model, data=df)\n",
       "    #predictions.rename({'Label': 'Churn_prediction'}, axis=1, inplace=True)\n",
       "    #predictions['Churn_prediction'].replace({1: 'Churn', 0: 'Not Churn '},inplace=True)\n",
       "    return predictions #['Churn_prediction']\n",
       "\n",
       "\n",
       "if __name__ == \"__main__\":\n",
       "    df = load_data('prepped_churn_data.csv')\n",
       "    predictions = make_predictions(df)\n",
       "    print('predictions:')\n",
       "    print(predictions)"
      ]
     },
     "execution_count": 55,
     "metadata": {},
     "output_type": "execute_result"
    }
   ],
   "source": [
    "from IPython.display import Code\n",
    "\n",
    "Code('predict_churn.py')"
   ]
  },
  {
   "cell_type": "markdown",
   "id": "e48910c7",
   "metadata": {},
   "source": [
    "We can test out running the file with the Jupyter \"magic\" command %run:"
   ]
  },
  {
   "cell_type": "code",
   "execution_count": 56,
   "id": "b4ad4fbb",
   "metadata": {},
   "outputs": [
    {
     "name": "stdout",
     "output_type": "stream",
     "text": [
      "Transformation Pipeline and Model Successfully Loaded\n",
      "predictions:\n",
      "      Unnamed: 0  tenure  PhoneService  Contract  MonthlyCharges  \\\n",
      "0              0       1             0         0       29.850000   \n",
      "1              1      34             1         1       56.950001   \n",
      "2              2       2             1         0       53.849998   \n",
      "3              3      45             0         1       42.299999   \n",
      "4              4       2             1         0       70.699997   \n",
      "...          ...     ...           ...       ...             ...   \n",
      "7038        7038      24             1         1       84.800003   \n",
      "7039        7039      72             1         1      103.199997   \n",
      "7040        7040      11             0         0       29.600000   \n",
      "7041        7041       4             1         0       74.400002   \n",
      "7042        7042      66             1         2      105.650002   \n",
      "\n",
      "      TotalCharges  Credit card (automatic)  Electronic check  Mailed check  \\\n",
      "0        29.850000                        0                 1             0   \n",
      "1      1889.500000                        0                 0             1   \n",
      "2       108.150002                        0                 0             1   \n",
      "3      1840.750000                        0                 0             0   \n",
      "4       151.649994                        0                 1             0   \n",
      "...            ...                      ...               ...           ...   \n",
      "7038   1990.500000                        0                 0             1   \n",
      "7039   7362.899902                        1                 0             0   \n",
      "7040    346.450012                        0                 1             0   \n",
      "7041    306.600006                        0                 0             1   \n",
      "7042   6844.500000                        0                 0             0   \n",
      "\n",
      "      Total_tenure_ratio  Churn  prediction_label  prediction_score  \n",
      "0              29.850000      0                 1            0.5867  \n",
      "1              55.573528      0                 0            0.9461  \n",
      "2              54.075001      1                 0            0.6236  \n",
      "3              40.905556      0                 0            0.9371  \n",
      "4              75.824997      1                 1            0.6274  \n",
      "...                  ...    ...               ...               ...  \n",
      "7038           82.937500      0                 0            0.8206  \n",
      "7039          102.262497      0                 0            0.9054  \n",
      "7040           31.495455      0                 0            0.5377  \n",
      "7041           76.650002      1                 0            0.5063  \n",
      "7042          103.704544      0                 0            0.9403  \n",
      "\n",
      "[7043 rows x 13 columns]\n"
     ]
    },
    {
     "data": {
      "text/plain": [
       "<Figure size 800x550 with 0 Axes>"
      ]
     },
     "metadata": {},
     "output_type": "display_data"
    }
   ],
   "source": [
    "%run predict_churn.py"
   ]
  },
  {
   "cell_type": "markdown",
   "id": "c49db562",
   "metadata": {},
   "source": [
    "# Summary"
   ]
  },
  {
   "cell_type": "markdown",
   "id": "9533a1cd",
   "metadata": {},
   "source": [
    "PyCaret, an AutoML library, to analyze and predict customer churn. It starts with data loading and preprocessing, followed by installation and setup of PyCaret. And found Logistic Regression as the best model with \"contract\" as a key feature.\n",
    "\n",
    "* Data Loading: We began by loading our preprocessed dataset from week 2, where everything had already been converted into numeric format.\n",
    "\n",
    "- PyCaret Setup: We proceeded to set up PyCaret, an AutoML library, to automate various tasks. This included installing it and configuring it to work with our dataset. PyCaret streamlines processes like data preprocessing and offers numerous customization options.\n",
    "\n",
    "- Model Comparison: Next, we utilized PyCaret to compare several machine learning models, aiming to identify the best-performing one for our churn prediction task. \n",
    "\n",
    "- Model Evaluation: We conducted a comprehensive evaluation of the top model, including generating visualizations and examining metrics like accuracy. This in-depth assessment provided a clear understanding of the model's performance.\n",
    "\n",
    "- Making Predictions: We demonstrated how to make predictions using the trained model. This capability allows us to predict churn on new data, a crucial functionality for our analysis.\n",
    "\n",
    "- Model Saving and Loading: To ensure future usability, we explored how to save the best model as a pickle file. This step is vital for potential model deployment.\n",
    "\n",
    "- Creating a Python Module: Finally, we suggested creating a Python module for efficient model deployment across different environments. This approach enhances the versatility of our churn prediction model."
   ]
  }
 ],
 "metadata": {
  "kernelspec": {
   "display_name": "Python 3",
   "language": "python",
   "name": "python3"
  },
  "language_info": {
   "codemirror_mode": {
    "name": "ipython",
    "version": 3
   },
   "file_extension": ".py",
   "mimetype": "text/x-python",
   "name": "python",
   "nbconvert_exporter": "python",
   "pygments_lexer": "ipython3",
   "version": "3.10.11"
  }
 },
 "nbformat": 4,
 "nbformat_minor": 5
}
